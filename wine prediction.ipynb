{
 "cells": [
  {
   "cell_type": "code",
   "execution_count": 36,
   "metadata": {
    "collapsed": true
   },
   "outputs": [],
   "source": [
    "import pandas as pd"
   ]
  },
  {
   "cell_type": "code",
   "execution_count": 37,
   "metadata": {
    "collapsed": false
   },
   "outputs": [],
   "source": [
    "mywinedata=pd.read_excel(r\"C:\\Users\\Shashwat\\Desktop\\winedata.xlsx\",names=[\"Cultivator\",\"Alcohol\",\"Malic_acid\",\"Ash\",\"Alcalinity_of_ash\",\"Magnesium\",\"Total_phenols\",\"Flavanoids\",\"Nonflavanoid_phenols\",\"Proanthocyanins\",\"Color_intensity\",\"Hue\",\"OD280/OD315_of_diluted_wines\",\"Proline\"])"
   ]
  },
  {
   "cell_type": "code",
   "execution_count": 38,
   "metadata": {
    "collapsed": false
   },
   "outputs": [
    {
     "data": {
      "text/plain": [
       "(177, 14)"
      ]
     },
     "execution_count": 38,
     "metadata": {},
     "output_type": "execute_result"
    }
   ],
   "source": [
    "mywinedata.shape"
   ]
  },
  {
   "cell_type": "code",
   "execution_count": 197,
   "metadata": {
    "collapsed": true
   },
   "outputs": [],
   "source": [
    "X_data=mywinedata.drop(['Cultivator'],axis=1)"
   ]
  },
  {
   "cell_type": "code",
   "execution_count": 198,
   "metadata": {
    "collapsed": true
   },
   "outputs": [],
   "source": [
    "Y_out=mywinedata['Cultivator']"
   ]
  },
  {
   "cell_type": "code",
   "execution_count": 199,
   "metadata": {
    "collapsed": true
   },
   "outputs": [],
   "source": [
    "from sklearn.model_selection import train_test_split"
   ]
  },
  {
   "cell_type": "code",
   "execution_count": 271,
   "metadata": {
    "collapsed": true
   },
   "outputs": [],
   "source": [
    "X_train,X_test,Y_train,Y_test=train_test_split(X_data,Y_out,test_size=.40,random_state=100)"
   ]
  },
  {
   "cell_type": "code",
   "execution_count": 272,
   "metadata": {
    "collapsed": false
   },
   "outputs": [
    {
     "data": {
      "text/plain": [
       "Alcohol                          12.993672\n",
       "Malic_acid                        2.339887\n",
       "Ash                               2.366158\n",
       "Alcalinity_of_ash                19.516949\n",
       "Magnesium                        99.587571\n",
       "Total_phenols                     2.292260\n",
       "Flavanoids                        2.023446\n",
       "Nonflavanoid_phenols              0.362316\n",
       "Proanthocyanins                   1.586949\n",
       "Color_intensity                   5.054802\n",
       "Hue                               0.956983\n",
       "OD280/OD315_of_diluted_wines      2.604294\n",
       "Proline                         745.096045\n",
       "dtype: float64"
      ]
     },
     "execution_count": 272,
     "metadata": {},
     "output_type": "execute_result"
    }
   ],
   "source": [
    "X_data.mean()"
   ]
  },
  {
   "cell_type": "code",
   "execution_count": 273,
   "metadata": {
    "collapsed": false
   },
   "outputs": [
    {
     "data": {
      "text/plain": [
       "Alcohol                           0.808808\n",
       "Malic_acid                        1.119314\n",
       "Ash                               0.275080\n",
       "Alcalinity_of_ash                 3.336071\n",
       "Magnesium                        14.174018\n",
       "Total_phenols                     0.626465\n",
       "Flavanoids                        0.998658\n",
       "Nonflavanoid_phenols              0.124653\n",
       "Proanthocyanins                   0.571545\n",
       "Color_intensity                   2.324446\n",
       "Hue                               0.229135\n",
       "OD280/OD315_of_diluted_wines      0.705103\n",
       "Proline                         314.884046\n",
       "dtype: float64"
      ]
     },
     "execution_count": 273,
     "metadata": {},
     "output_type": "execute_result"
    }
   ],
   "source": [
    "X_data.std()"
   ]
  },
  {
   "cell_type": "code",
   "execution_count": 274,
   "metadata": {
    "collapsed": true
   },
   "outputs": [],
   "source": [
    "from sklearn import preprocessing"
   ]
  },
  {
   "cell_type": "code",
   "execution_count": 275,
   "metadata": {
    "collapsed": true
   },
   "outputs": [],
   "source": [
    "X_scale_data=preprocessing.scale(X_data)"
   ]
  },
  {
   "cell_type": "code",
   "execution_count": 276,
   "metadata": {
    "collapsed": true
   },
   "outputs": [],
   "source": [
    "#preprocessing\n",
    "from sklearn.preprocessing import StandardScaler"
   ]
  },
  {
   "cell_type": "code",
   "execution_count": 277,
   "metadata": {
    "collapsed": true
   },
   "outputs": [],
   "source": [
    "myscale=StandardScaler()"
   ]
  },
  {
   "cell_type": "code",
   "execution_count": 278,
   "metadata": {
    "collapsed": false
   },
   "outputs": [
    {
     "data": {
      "text/plain": [
       "StandardScaler(copy=True, with_mean=True, with_std=True)"
      ]
     },
     "execution_count": 278,
     "metadata": {},
     "output_type": "execute_result"
    }
   ],
   "source": [
    "myscale.fit(X_train)\n",
    "myscale.fit(X_test)"
   ]
  },
  {
   "cell_type": "code",
   "execution_count": 279,
   "metadata": {
    "collapsed": false
   },
   "outputs": [
    {
     "data": {
      "text/plain": [
       "pandas.core.frame.DataFrame"
      ]
     },
     "execution_count": 279,
     "metadata": {},
     "output_type": "execute_result"
    }
   ],
   "source": [
    "type(X_train)"
   ]
  },
  {
   "cell_type": "code",
   "execution_count": 280,
   "metadata": {
    "collapsed": true
   },
   "outputs": [],
   "source": [
    "XX_train=myscale.transform(X_train)\n",
    "XX_test=myscale.transform(X_test)"
   ]
  },
  {
   "cell_type": "code",
   "execution_count": 281,
   "metadata": {
    "collapsed": false
   },
   "outputs": [
    {
     "data": {
      "text/plain": [
       "numpy.ndarray"
      ]
     },
     "execution_count": 281,
     "metadata": {},
     "output_type": "execute_result"
    }
   ],
   "source": [
    "type(XX_train)"
   ]
  },
  {
   "cell_type": "code",
   "execution_count": 282,
   "metadata": {
    "collapsed": false
   },
   "outputs": [
    {
     "data": {
      "text/plain": [
       "0.080642481856726803"
      ]
     },
     "execution_count": 282,
     "metadata": {},
     "output_type": "execute_result"
    }
   ],
   "source": [
    "XX_train.mean()"
   ]
  },
  {
   "cell_type": "code",
   "execution_count": 283,
   "metadata": {
    "collapsed": false
   },
   "outputs": [
    {
     "data": {
      "text/plain": [
       "1.0"
      ]
     },
     "execution_count": 283,
     "metadata": {},
     "output_type": "execute_result"
    }
   ],
   "source": [
    "XX_test.std()"
   ]
  },
  {
   "cell_type": "code",
   "execution_count": 284,
   "metadata": {
    "collapsed": true
   },
   "outputs": [],
   "source": [
    "#training lib\n",
    "from sklearn.neural_network import MLPClassifier"
   ]
  },
  {
   "cell_type": "code",
   "execution_count": 291,
   "metadata": {
    "collapsed": false
   },
   "outputs": [],
   "source": [
    "myobj=MLPClassifier(hidden_layer_sizes=(13,13,13),max_iter=350)\n",
    "#training\n",
    "mymodel=myobj.fit(XX_train,Y_train)\n",
    "mymodel2=myobj.fit(X_train,Y_train)"
   ]
  },
  {
   "cell_type": "code",
   "execution_count": 292,
   "metadata": {
    "collapsed": true
   },
   "outputs": [],
   "source": [
    "Ywp=mymodel.predict(X_test)\n",
    "Ywithp=mymodel.predict(XX_test)\n",
    "Y2wp=mymodel2.predict(X_test)\n",
    "Y2withp=mymodel2.predict(XX_test)"
   ]
  },
  {
   "cell_type": "code",
   "execution_count": 293,
   "metadata": {
    "collapsed": false
   },
   "outputs": [],
   "source": [
    "from sklearn.metrics import accuracy_score"
   ]
  },
  {
   "cell_type": "code",
   "execution_count": 294,
   "metadata": {
    "collapsed": false
   },
   "outputs": [],
   "source": [
    "acc_score1=accuracy_score(Y_test,Ywp)\n",
    "acc_score2=accuracy_score(Y_test,Ywithp)"
   ]
  },
  {
   "cell_type": "code",
   "execution_count": 295,
   "metadata": {
    "collapsed": false
   },
   "outputs": [
    {
     "data": {
      "text/plain": [
       "0.323943661971831"
      ]
     },
     "execution_count": 295,
     "metadata": {},
     "output_type": "execute_result"
    }
   ],
   "source": [
    "acc_score1"
   ]
  },
  {
   "cell_type": "code",
   "execution_count": 296,
   "metadata": {
    "collapsed": false
   },
   "outputs": [
    {
     "data": {
      "text/plain": [
       "0.28169014084507044"
      ]
     },
     "execution_count": 296,
     "metadata": {},
     "output_type": "execute_result"
    }
   ],
   "source": [
    "acc_score2"
   ]
  },
  {
   "cell_type": "code",
   "execution_count": 270,
   "metadata": {
    "collapsed": false
   },
   "outputs": [
    {
     "data": {
      "text/plain": [
       "4"
      ]
     },
     "execution_count": 270,
     "metadata": {},
     "output_type": "execute_result"
    }
   ],
   "source": [
    "len(mymodel.coefs_)"
   ]
  },
  {
   "cell_type": "code",
   "execution_count": 224,
   "metadata": {
    "collapsed": false
   },
   "outputs": [
    {
     "data": {
      "text/plain": [
       "array([[ 0.43212604, -0.44155082, -0.38817009,  0.03056627,  0.45975976,\n",
       "        -0.0906912 ,  0.39458318,  0.10077724,  0.32575258,  0.37394486,\n",
       "        -0.47116127, -0.19919357,  0.44845901],\n",
       "       [-0.08881176,  0.24061292,  0.2170592 , -0.05828405, -0.06015129,\n",
       "         0.07347531,  0.21396684, -0.34065207,  0.24704004, -0.00441998,\n",
       "         0.03229553,  0.12160949,  0.11124583],\n",
       "       [ 0.0582274 , -0.36107412,  0.10604332, -0.20412936, -0.21925842,\n",
       "         0.14837947, -0.36161381,  0.03673743, -0.15314073,  0.04021071,\n",
       "        -0.22393833,  0.06394002, -0.4638426 ],\n",
       "       [-0.09654368,  0.00923985,  0.19451223,  0.20999659, -0.13839678,\n",
       "         0.15768419,  0.41231186, -0.15804065, -0.46225834,  0.13387689,\n",
       "         0.05118705, -0.3413864 , -0.06833923],\n",
       "       [ 0.09292959,  0.16666053,  0.36431091, -0.25761262, -0.39600285,\n",
       "         0.10377581,  0.01984772, -0.32365361,  0.2971752 ,  0.01587823,\n",
       "        -0.29630604, -0.04951273,  0.35528152],\n",
       "       [ 0.36170373, -0.10589358,  0.33154339, -0.14244047, -0.23810758,\n",
       "        -0.34339991,  0.4660329 , -0.0728873 , -0.27601631,  0.39675788,\n",
       "        -0.24325076, -0.24806821,  0.34314982],\n",
       "       [ 0.24497567,  0.16160766, -0.31870831, -0.06286528,  0.12387657,\n",
       "         0.05935941,  0.13826435,  0.46870911, -0.28172262,  0.23247956,\n",
       "         0.02455419, -0.32389623, -0.1266624 ],\n",
       "       [-0.13157032,  0.40570399, -0.18042686,  0.31755389, -0.13434367,\n",
       "         0.10082534, -0.40985518,  0.31733923,  0.11346537, -0.39506744,\n",
       "        -0.02580476,  0.08231827,  0.14099384],\n",
       "       [-0.17982334, -0.09545804,  0.01831097,  0.42493864,  0.25821214,\n",
       "         0.18157871,  0.34768642,  0.22517236,  0.27273132, -0.08733862,\n",
       "        -0.45396397,  0.35498075, -0.17596457],\n",
       "       [-0.29504167, -0.08793346, -0.04563852,  0.44651006, -0.45392532,\n",
       "         0.19719449, -0.27718435,  0.20084458,  0.45667942, -0.38650857,\n",
       "         0.20435569, -0.1707632 ,  0.36807976],\n",
       "       [-0.30663709, -0.40318061,  0.06081028, -0.26459944, -0.30042216,\n",
       "         0.04459137, -0.34661131,  0.28360891, -0.12664339,  0.10875937,\n",
       "         0.16954881,  0.24584058, -0.09507027],\n",
       "       [ 0.06288629,  0.19128692,  0.4518066 , -0.11978355,  0.44076605,\n",
       "         0.03957166, -0.17074611, -0.10786194, -0.3866342 , -0.41685381,\n",
       "         0.38546185, -0.45895936,  0.32065269],\n",
       "       [-0.10764876,  0.04179231,  0.2423899 , -0.17147604, -0.00049585,\n",
       "        -0.21625584, -0.40099563,  0.22952879,  0.01616365, -0.22844817,\n",
       "         0.14793444,  0.1349055 , -0.40752091]])"
      ]
     },
     "execution_count": 224,
     "metadata": {},
     "output_type": "execute_result"
    }
   ],
   "source": [
    "mymodel.coefs_[2]"
   ]
  },
  {
   "cell_type": "code",
   "execution_count": 226,
   "metadata": {
    "collapsed": false
   },
   "outputs": [
    {
     "data": {
      "text/plain": [
       "4"
      ]
     },
     "execution_count": 226,
     "metadata": {},
     "output_type": "execute_result"
    }
   ],
   "source": [
    "len(mymodel.intercepts_)"
   ]
  },
  {
   "cell_type": "code",
   "execution_count": 229,
   "metadata": {
    "collapsed": false
   },
   "outputs": [
    {
     "data": {
      "text/plain": [
       "3"
      ]
     },
     "execution_count": 229,
     "metadata": {},
     "output_type": "execute_result"
    }
   ],
   "source": [
    "len(mymodel.intercepts_[3])"
   ]
  },
  {
   "cell_type": "code",
   "execution_count": null,
   "metadata": {
    "collapsed": true
   },
   "outputs": [],
   "source": []
  }
 ],
 "metadata": {
  "kernelspec": {
   "display_name": "Python 3",
   "language": "python",
   "name": "python3"
  },
  "language_info": {
   "codemirror_mode": {
    "name": "ipython",
    "version": 3
   },
   "file_extension": ".py",
   "mimetype": "text/x-python",
   "name": "python",
   "nbconvert_exporter": "python",
   "pygments_lexer": "ipython3",
   "version": "3.6.0"
  }
 },
 "nbformat": 4,
 "nbformat_minor": 2
}
